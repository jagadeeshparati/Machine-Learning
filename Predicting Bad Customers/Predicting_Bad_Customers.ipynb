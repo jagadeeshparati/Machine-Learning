{
 "cells": [
  {
   "cell_type": "markdown",
   "metadata": {},
   "source": [
    "# Credit Default Prediction"
   ]
  },
  {
   "cell_type": "markdown",
   "metadata": {},
   "source": [
    "Predict the customers with high risk i.e. bad customers\n",
    "Bad: these indicate if customer is bad (=1)\n"
   ]
  },
  {
   "cell_type": "code",
   "execution_count": 36,
   "metadata": {},
   "outputs": [],
   "source": [
    "import pandas as pd\n",
    "import matplotlib.pyplot as plt\n",
    "import seaborn as sns\n",
    "import numpy as np\n",
    "import imblearn\n"
   ]
  },
  {
   "cell_type": "markdown",
   "metadata": {},
   "source": [
    "## Exploratory Data Analysis"
   ]
  },
  {
   "cell_type": "code",
   "execution_count": 37,
   "metadata": {},
   "outputs": [],
   "source": [
    "data=pd.read_excel('dataset_final.xlsx')"
   ]
  },
  {
   "cell_type": "code",
   "execution_count": 38,
   "metadata": {},
   "outputs": [
    {
     "data": {
      "text/plain": [
       "(22620, 276)"
      ]
     },
     "execution_count": 38,
     "metadata": {},
     "output_type": "execute_result"
    }
   ],
   "source": [
    "data.shape"
   ]
  },
  {
   "cell_type": "code",
   "execution_count": 3,
   "metadata": {},
   "outputs": [
    {
     "data": {
      "text/plain": [
       "0"
      ]
     },
     "execution_count": 3,
     "metadata": {},
     "output_type": "execute_result"
    }
   ],
   "source": [
    "data.isna().sum().sum()"
   ]
  },
  {
   "cell_type": "code",
   "execution_count": 4,
   "metadata": {},
   "outputs": [
    {
     "data": {
      "text/html": [
       "<div>\n",
       "<style scoped>\n",
       "    .dataframe tbody tr th:only-of-type {\n",
       "        vertical-align: middle;\n",
       "    }\n",
       "\n",
       "    .dataframe tbody tr th {\n",
       "        vertical-align: top;\n",
       "    }\n",
       "\n",
       "    .dataframe thead th {\n",
       "        text-align: right;\n",
       "    }\n",
       "</style>\n",
       "<table border=\"1\" class=\"dataframe\">\n",
       "  <thead>\n",
       "    <tr style=\"text-align: right;\">\n",
       "      <th></th>\n",
       "      <th>count</th>\n",
       "      <th>cust</th>\n",
       "      <th>bad</th>\n",
       "      <th>a1</th>\n",
       "      <th>a2</th>\n",
       "      <th>a3</th>\n",
       "      <th>a4</th>\n",
       "      <th>a5</th>\n",
       "      <th>a6</th>\n",
       "      <th>a7</th>\n",
       "      <th>...</th>\n",
       "      <th>a264</th>\n",
       "      <th>a265</th>\n",
       "      <th>a266</th>\n",
       "      <th>a267</th>\n",
       "      <th>a268</th>\n",
       "      <th>a269</th>\n",
       "      <th>a270</th>\n",
       "      <th>a271</th>\n",
       "      <th>a272</th>\n",
       "      <th>a273</th>\n",
       "    </tr>\n",
       "  </thead>\n",
       "  <tbody>\n",
       "    <tr>\n",
       "      <td>count</td>\n",
       "      <td>22620.000000</td>\n",
       "      <td>2.262000e+04</td>\n",
       "      <td>22620.000000</td>\n",
       "      <td>22620.000000</td>\n",
       "      <td>22620.000000</td>\n",
       "      <td>22620.000000</td>\n",
       "      <td>22620.000000</td>\n",
       "      <td>22620.000000</td>\n",
       "      <td>22620.000000</td>\n",
       "      <td>22620.000000</td>\n",
       "      <td>...</td>\n",
       "      <td>22620.000000</td>\n",
       "      <td>22620.000000</td>\n",
       "      <td>22620.000000</td>\n",
       "      <td>22620.000000</td>\n",
       "      <td>22620.000000</td>\n",
       "      <td>22620.000000</td>\n",
       "      <td>22620.000000</td>\n",
       "      <td>22620.000000</td>\n",
       "      <td>22620.000000</td>\n",
       "      <td>22620.000000</td>\n",
       "    </tr>\n",
       "    <tr>\n",
       "      <td>mean</td>\n",
       "      <td>11310.500000</td>\n",
       "      <td>5.618493e+06</td>\n",
       "      <td>0.090451</td>\n",
       "      <td>1.876923</td>\n",
       "      <td>1.445225</td>\n",
       "      <td>1.507383</td>\n",
       "      <td>1.132759</td>\n",
       "      <td>2.581565</td>\n",
       "      <td>1.539346</td>\n",
       "      <td>2.505172</td>\n",
       "      <td>...</td>\n",
       "      <td>2.661981</td>\n",
       "      <td>1.939920</td>\n",
       "      <td>2.382891</td>\n",
       "      <td>1.392396</td>\n",
       "      <td>1.349027</td>\n",
       "      <td>1.295800</td>\n",
       "      <td>1.430283</td>\n",
       "      <td>2.395225</td>\n",
       "      <td>3.131919</td>\n",
       "      <td>2.143899</td>\n",
       "    </tr>\n",
       "    <tr>\n",
       "      <td>std</td>\n",
       "      <td>6529.975881</td>\n",
       "      <td>4.419618e+06</td>\n",
       "      <td>0.286833</td>\n",
       "      <td>0.328533</td>\n",
       "      <td>0.497002</td>\n",
       "      <td>0.499957</td>\n",
       "      <td>0.339321</td>\n",
       "      <td>1.116545</td>\n",
       "      <td>0.498461</td>\n",
       "      <td>0.564211</td>\n",
       "      <td>...</td>\n",
       "      <td>0.894830</td>\n",
       "      <td>0.237639</td>\n",
       "      <td>0.597043</td>\n",
       "      <td>0.488295</td>\n",
       "      <td>0.476673</td>\n",
       "      <td>0.456412</td>\n",
       "      <td>0.717027</td>\n",
       "      <td>0.614842</td>\n",
       "      <td>0.958725</td>\n",
       "      <td>1.016218</td>\n",
       "    </tr>\n",
       "    <tr>\n",
       "      <td>min</td>\n",
       "      <td>1.000000</td>\n",
       "      <td>1.648000e+04</td>\n",
       "      <td>0.000000</td>\n",
       "      <td>1.000000</td>\n",
       "      <td>1.000000</td>\n",
       "      <td>1.000000</td>\n",
       "      <td>1.000000</td>\n",
       "      <td>1.000000</td>\n",
       "      <td>1.000000</td>\n",
       "      <td>1.000000</td>\n",
       "      <td>...</td>\n",
       "      <td>1.000000</td>\n",
       "      <td>1.000000</td>\n",
       "      <td>1.000000</td>\n",
       "      <td>1.000000</td>\n",
       "      <td>1.000000</td>\n",
       "      <td>1.000000</td>\n",
       "      <td>1.000000</td>\n",
       "      <td>1.000000</td>\n",
       "      <td>1.000000</td>\n",
       "      <td>1.000000</td>\n",
       "    </tr>\n",
       "    <tr>\n",
       "      <td>25%</td>\n",
       "      <td>5655.750000</td>\n",
       "      <td>1.822630e+06</td>\n",
       "      <td>0.000000</td>\n",
       "      <td>2.000000</td>\n",
       "      <td>1.000000</td>\n",
       "      <td>1.000000</td>\n",
       "      <td>1.000000</td>\n",
       "      <td>2.000000</td>\n",
       "      <td>1.000000</td>\n",
       "      <td>2.000000</td>\n",
       "      <td>...</td>\n",
       "      <td>2.000000</td>\n",
       "      <td>2.000000</td>\n",
       "      <td>2.000000</td>\n",
       "      <td>1.000000</td>\n",
       "      <td>1.000000</td>\n",
       "      <td>1.000000</td>\n",
       "      <td>1.000000</td>\n",
       "      <td>2.000000</td>\n",
       "      <td>2.000000</td>\n",
       "      <td>1.000000</td>\n",
       "    </tr>\n",
       "    <tr>\n",
       "      <td>50%</td>\n",
       "      <td>11310.500000</td>\n",
       "      <td>4.246013e+06</td>\n",
       "      <td>0.000000</td>\n",
       "      <td>2.000000</td>\n",
       "      <td>1.000000</td>\n",
       "      <td>2.000000</td>\n",
       "      <td>1.000000</td>\n",
       "      <td>3.000000</td>\n",
       "      <td>2.000000</td>\n",
       "      <td>3.000000</td>\n",
       "      <td>...</td>\n",
       "      <td>3.000000</td>\n",
       "      <td>2.000000</td>\n",
       "      <td>2.000000</td>\n",
       "      <td>1.000000</td>\n",
       "      <td>1.000000</td>\n",
       "      <td>1.000000</td>\n",
       "      <td>1.000000</td>\n",
       "      <td>2.000000</td>\n",
       "      <td>3.000000</td>\n",
       "      <td>2.000000</td>\n",
       "    </tr>\n",
       "    <tr>\n",
       "      <td>75%</td>\n",
       "      <td>16965.250000</td>\n",
       "      <td>9.065963e+06</td>\n",
       "      <td>0.000000</td>\n",
       "      <td>2.000000</td>\n",
       "      <td>2.000000</td>\n",
       "      <td>2.000000</td>\n",
       "      <td>1.000000</td>\n",
       "      <td>4.000000</td>\n",
       "      <td>2.000000</td>\n",
       "      <td>3.000000</td>\n",
       "      <td>...</td>\n",
       "      <td>3.000000</td>\n",
       "      <td>2.000000</td>\n",
       "      <td>3.000000</td>\n",
       "      <td>2.000000</td>\n",
       "      <td>2.000000</td>\n",
       "      <td>2.000000</td>\n",
       "      <td>2.000000</td>\n",
       "      <td>3.000000</td>\n",
       "      <td>4.000000</td>\n",
       "      <td>3.000000</td>\n",
       "    </tr>\n",
       "    <tr>\n",
       "      <td>max</td>\n",
       "      <td>22620.000000</td>\n",
       "      <td>1.568583e+07</td>\n",
       "      <td>1.000000</td>\n",
       "      <td>2.000000</td>\n",
       "      <td>2.000000</td>\n",
       "      <td>2.000000</td>\n",
       "      <td>2.000000</td>\n",
       "      <td>4.000000</td>\n",
       "      <td>2.000000</td>\n",
       "      <td>3.000000</td>\n",
       "      <td>...</td>\n",
       "      <td>4.000000</td>\n",
       "      <td>2.000000</td>\n",
       "      <td>3.000000</td>\n",
       "      <td>2.000000</td>\n",
       "      <td>2.000000</td>\n",
       "      <td>2.000000</td>\n",
       "      <td>3.000000</td>\n",
       "      <td>3.000000</td>\n",
       "      <td>4.000000</td>\n",
       "      <td>4.000000</td>\n",
       "    </tr>\n",
       "  </tbody>\n",
       "</table>\n",
       "<p>8 rows × 276 columns</p>\n",
       "</div>"
      ],
      "text/plain": [
       "              count          cust           bad            a1            a2  \\\n",
       "count  22620.000000  2.262000e+04  22620.000000  22620.000000  22620.000000   \n",
       "mean   11310.500000  5.618493e+06      0.090451      1.876923      1.445225   \n",
       "std     6529.975881  4.419618e+06      0.286833      0.328533      0.497002   \n",
       "min        1.000000  1.648000e+04      0.000000      1.000000      1.000000   \n",
       "25%     5655.750000  1.822630e+06      0.000000      2.000000      1.000000   \n",
       "50%    11310.500000  4.246013e+06      0.000000      2.000000      1.000000   \n",
       "75%    16965.250000  9.065963e+06      0.000000      2.000000      2.000000   \n",
       "max    22620.000000  1.568583e+07      1.000000      2.000000      2.000000   \n",
       "\n",
       "                 a3            a4            a5            a6            a7  \\\n",
       "count  22620.000000  22620.000000  22620.000000  22620.000000  22620.000000   \n",
       "mean       1.507383      1.132759      2.581565      1.539346      2.505172   \n",
       "std        0.499957      0.339321      1.116545      0.498461      0.564211   \n",
       "min        1.000000      1.000000      1.000000      1.000000      1.000000   \n",
       "25%        1.000000      1.000000      2.000000      1.000000      2.000000   \n",
       "50%        2.000000      1.000000      3.000000      2.000000      3.000000   \n",
       "75%        2.000000      1.000000      4.000000      2.000000      3.000000   \n",
       "max        2.000000      2.000000      4.000000      2.000000      3.000000   \n",
       "\n",
       "       ...          a264          a265          a266          a267  \\\n",
       "count  ...  22620.000000  22620.000000  22620.000000  22620.000000   \n",
       "mean   ...      2.661981      1.939920      2.382891      1.392396   \n",
       "std    ...      0.894830      0.237639      0.597043      0.488295   \n",
       "min    ...      1.000000      1.000000      1.000000      1.000000   \n",
       "25%    ...      2.000000      2.000000      2.000000      1.000000   \n",
       "50%    ...      3.000000      2.000000      2.000000      1.000000   \n",
       "75%    ...      3.000000      2.000000      3.000000      2.000000   \n",
       "max    ...      4.000000      2.000000      3.000000      2.000000   \n",
       "\n",
       "               a268          a269          a270          a271          a272  \\\n",
       "count  22620.000000  22620.000000  22620.000000  22620.000000  22620.000000   \n",
       "mean       1.349027      1.295800      1.430283      2.395225      3.131919   \n",
       "std        0.476673      0.456412      0.717027      0.614842      0.958725   \n",
       "min        1.000000      1.000000      1.000000      1.000000      1.000000   \n",
       "25%        1.000000      1.000000      1.000000      2.000000      2.000000   \n",
       "50%        1.000000      1.000000      1.000000      2.000000      3.000000   \n",
       "75%        2.000000      2.000000      2.000000      3.000000      4.000000   \n",
       "max        2.000000      2.000000      3.000000      3.000000      4.000000   \n",
       "\n",
       "               a273  \n",
       "count  22620.000000  \n",
       "mean       2.143899  \n",
       "std        1.016218  \n",
       "min        1.000000  \n",
       "25%        1.000000  \n",
       "50%        2.000000  \n",
       "75%        3.000000  \n",
       "max        4.000000  \n",
       "\n",
       "[8 rows x 276 columns]"
      ]
     },
     "execution_count": 4,
     "metadata": {},
     "output_type": "execute_result"
    }
   ],
   "source": [
    "data.describe()"
   ]
  },
  {
   "cell_type": "code",
   "execution_count": 39,
   "metadata": {},
   "outputs": [],
   "source": [
    "# Putting feature variables to X\n",
    "x = data.drop(['bad','cust','count'],axis=1)\n",
    "\n",
    "# Putting response variable to y\n",
    "y = pd.DataFrame(data['bad'])"
   ]
  },
  {
   "cell_type": "code",
   "execution_count": 40,
   "metadata": {},
   "outputs": [
    {
     "data": {
      "text/plain": [
       "0    20574\n",
       "1     2046\n",
       "Name: bad, dtype: int64"
      ]
     },
     "execution_count": 40,
     "metadata": {},
     "output_type": "execute_result"
    }
   ],
   "source": [
    "y['bad'].value_counts()"
   ]
  },
  {
   "cell_type": "markdown",
   "metadata": {},
   "source": [
    "As the target variable is highly imbalanced we are oversampling the minority class using SMOTE "
   ]
  },
  {
   "cell_type": "code",
   "execution_count": 41,
   "metadata": {},
   "outputs": [],
   "source": [
    "from imblearn.over_sampling import SMOTE\n",
    "\n",
    "sm = SMOTE(sampling_strategy='minority',random_state=27)\n",
    "X,Y = sm.fit_sample(x, y)"
   ]
  },
  {
   "cell_type": "code",
   "execution_count": 42,
   "metadata": {},
   "outputs": [
    {
     "data": {
      "text/plain": [
       "1    20574\n",
       "0    20574\n",
       "Name: bad, dtype: int64"
      ]
     },
     "execution_count": 42,
     "metadata": {},
     "output_type": "execute_result"
    }
   ],
   "source": [
    "Y['bad'].value_counts()"
   ]
  },
  {
   "cell_type": "markdown",
   "metadata": {},
   "source": [
    "### Data Preparation and Model Building"
   ]
  },
  {
   "cell_type": "code",
   "execution_count": 43,
   "metadata": {},
   "outputs": [],
   "source": [
    "# Splitting the data into train and test\n",
    "\n",
    "from sklearn.model_selection import train_test_split,RepeatedStratifiedKFold,cross_val_score\n",
    "\n",
    "X_train, X_test, Y_train, Y_test = train_test_split(X,Y, train_size=0.7,test_size=0.3,stratify=Y,random_state=100)"
   ]
  },
  {
   "cell_type": "markdown",
   "metadata": {},
   "source": [
    "#### Default Hyperparameters\n",
    "Let's first fit a random forest model with default hyperparameters."
   ]
  },
  {
   "cell_type": "code",
   "execution_count": 15,
   "metadata": {},
   "outputs": [
    {
     "name": "stderr",
     "output_type": "stream",
     "text": [
      "C:\\ProgramData\\Anaconda3\\lib\\site-packages\\ipykernel_launcher.py:6: DataConversionWarning: A column-vector y was passed when a 1d array was expected. Please change the shape of y to (n_samples,), for example using ravel().\n",
      "  \n"
     ]
    },
    {
     "data": {
      "text/plain": [
       "RandomForestClassifier()"
      ]
     },
     "execution_count": 15,
     "metadata": {},
     "output_type": "execute_result"
    }
   ],
   "source": [
    "# Importing random forest classifier from sklearn library\n",
    "from sklearn.ensemble import RandomForestClassifier\n",
    "\n",
    "# Running the random forest with default parameters.\n",
    "rfc = RandomForestClassifier()\n",
    "rfc.fit(X_train,Y_train)"
   ]
  },
  {
   "cell_type": "code",
   "execution_count": 16,
   "metadata": {},
   "outputs": [],
   "source": [
    "y_pred=rfc.predict(X_test)"
   ]
  },
  {
   "cell_type": "code",
   "execution_count": 18,
   "metadata": {},
   "outputs": [],
   "source": [
    "from sklearn.metrics import classification_report,confusion_matrix, accuracy_score,f1_score,roc_auc_score"
   ]
  },
  {
   "cell_type": "code",
   "execution_count": 19,
   "metadata": {},
   "outputs": [
    {
     "name": "stdout",
     "output_type": "stream",
     "text": [
      "0.9535827473540776\n",
      "0.9525858502275547\n"
     ]
    }
   ],
   "source": [
    "print(roc_auc_score(Y_test,y_pred))\n",
    "print(f1_score(Y_test,y_pred))"
   ]
  },
  {
   "cell_type": "markdown",
   "metadata": {},
   "source": [
    "### Hyperparameter Tuning\n",
    "Grid Search to Find Optimal Hyperparameters"
   ]
  },
  {
   "cell_type": "code",
   "execution_count": 44,
   "metadata": {},
   "outputs": [],
   "source": [
    "# Create the parameter grid based on the results of random search \n",
    "from sklearn.model_selection import GridSearchCV\n",
    "cv = RepeatedStratifiedKFold(n_splits=10, n_repeats=5, random_state=10)\n",
    "\n",
    "param_grid = {\n",
    "    'max_depth': [4,8,10],\n",
    "    'min_samples_leaf': range(100, 400, 200),\n",
    "    'min_samples_split': range(200, 500, 200),\n",
    "    'n_estimators': [100,200, 300]\n",
    "}\n",
    "# Create a based model\n",
    "rf = RandomForestClassifier()\n",
    "# Instantiate the grid search model\n",
    "grid_search = GridSearchCV(estimator = rf, param_grid = param_grid, \n",
    "                          cv = cv, n_jobs = -1,verbose = 1)"
   ]
  },
  {
   "cell_type": "code",
   "execution_count": 46,
   "metadata": {},
   "outputs": [
    {
     "name": "stdout",
     "output_type": "stream",
     "text": [
      "Fitting 50 folds for each of 36 candidates, totalling 1800 fits\n"
     ]
    },
    {
     "name": "stderr",
     "output_type": "stream",
     "text": [
      "[Parallel(n_jobs=-1)]: Using backend LokyBackend with 8 concurrent workers.\n",
      "[Parallel(n_jobs=-1)]: Done  34 tasks      | elapsed:   30.8s\n",
      "[Parallel(n_jobs=-1)]: Done 184 tasks      | elapsed:  3.4min\n",
      "[Parallel(n_jobs=-1)]: Done 434 tasks      | elapsed:  8.1min\n",
      "[Parallel(n_jobs=-1)]: Done 784 tasks      | elapsed: 17.4min\n",
      "[Parallel(n_jobs=-1)]: Done 1234 tasks      | elapsed: 34.2min\n",
      "[Parallel(n_jobs=-1)]: Done 1784 tasks      | elapsed: 58.9min\n",
      "[Parallel(n_jobs=-1)]: Done 1800 out of 1800 | elapsed: 59.8min finished\n",
      "C:\\Users\\JAGADEESH\\AppData\\Roaming\\Python\\Python37\\site-packages\\sklearn\\model_selection\\_search.py:765: DataConversionWarning: A column-vector y was passed when a 1d array was expected. Please change the shape of y to (n_samples,), for example using ravel().\n",
      "  self.best_estimator_.fit(X, y, **fit_params)\n"
     ]
    },
    {
     "data": {
      "text/plain": [
       "GridSearchCV(cv=RepeatedStratifiedKFold(n_repeats=5, n_splits=10, random_state=10),\n",
       "             estimator=RandomForestClassifier(), n_jobs=-1,\n",
       "             param_grid={'max_depth': [4, 8, 10],\n",
       "                         'min_samples_leaf': range(100, 400, 200),\n",
       "                         'min_samples_split': range(200, 500, 200),\n",
       "                         'n_estimators': [100, 200, 300]},\n",
       "             verbose=1)"
      ]
     },
     "execution_count": 46,
     "metadata": {},
     "output_type": "execute_result"
    }
   ],
   "source": [
    "# Fit the grid search to the data\n",
    "grid_search.fit(X_train, Y_train)"
   ]
  },
  {
   "cell_type": "code",
   "execution_count": 47,
   "metadata": {},
   "outputs": [
    {
     "data": {
      "text/plain": [
       "(0.8408778708203168,\n",
       " {'max_depth': 10,\n",
       "  'min_samples_leaf': 100,\n",
       "  'min_samples_split': 200,\n",
       "  'n_estimators': 100})"
      ]
     },
     "execution_count": 47,
     "metadata": {},
     "output_type": "execute_result"
    }
   ],
   "source": [
    "grid_search.best_score_,grid_search.best_params_"
   ]
  },
  {
   "cell_type": "code",
   "execution_count": 48,
   "metadata": {},
   "outputs": [
    {
     "name": "stderr",
     "output_type": "stream",
     "text": [
      "C:\\ProgramData\\Anaconda3\\lib\\site-packages\\ipykernel_launcher.py:2: DataConversionWarning: A column-vector y was passed when a 1d array was expected. Please change the shape of y to (n_samples,), for example using ravel().\n",
      "  \n"
     ]
    },
    {
     "data": {
      "text/plain": [
       "RandomForestClassifier(max_depth=10, min_samples_leaf=100,\n",
       "                       min_samples_split=200)"
      ]
     },
     "execution_count": 48,
     "metadata": {},
     "output_type": "execute_result"
    }
   ],
   "source": [
    "model=RandomForestClassifier(n_estimators=100,max_depth=10,min_samples_leaf=100,min_samples_split=200)\n",
    "model.fit(X_train, Y_train)"
   ]
  },
  {
   "cell_type": "code",
   "execution_count": 49,
   "metadata": {},
   "outputs": [],
   "source": [
    "y_pred=model.predict(X_test)"
   ]
  },
  {
   "cell_type": "code",
   "execution_count": 50,
   "metadata": {},
   "outputs": [
    {
     "name": "stdout",
     "output_type": "stream",
     "text": [
      "0.8391293871978155\n",
      "0.8378493522991007\n"
     ]
    }
   ],
   "source": [
    "print(f1_score(y_pred,Y_test))\n",
    "print(roc_auc_score(y_pred,Y_test))"
   ]
  }
 ],
 "metadata": {
  "kernelspec": {
   "display_name": "Python 3",
   "language": "python",
   "name": "python3"
  },
  "language_info": {
   "codemirror_mode": {
    "name": "ipython",
    "version": 3
   },
   "file_extension": ".py",
   "mimetype": "text/x-python",
   "name": "python",
   "nbconvert_exporter": "python",
   "pygments_lexer": "ipython3",
   "version": "3.7.4"
  }
 },
 "nbformat": 4,
 "nbformat_minor": 2
}
