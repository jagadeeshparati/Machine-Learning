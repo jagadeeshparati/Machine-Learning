{
 "cells": [
  {
   "cell_type": "code",
   "execution_count": 19,
   "metadata": {},
   "outputs": [],
   "source": [
    "###################importing libraries##############################\n",
    "from __future__ import print_function\n",
    "import pandas as pd\n",
    "import numpy as np\n",
    "import keras\n",
    "from keras.models import Sequential\n",
    "from keras.layers import Dense, Dropout, Activation\n",
    "from keras.optimizers import SGD\n",
    "from keras.layers.normalization import BatchNormalization\n",
    "from keras.regularizers import l2\n",
    "from sklearn.preprocessing import MinMaxScaler\n",
    "from sklearn.model_selection import train_test_split\n",
    "from sklearn.metrics import confusion_matrix, f1_score, precision_score, recall_score\n",
    "from openpyxl import load_workbook\n",
    "from tensorflow.keras.layers import LayerNormalization"
   ]
  },
  {
   "cell_type": "code",
   "execution_count": 3,
   "metadata": {},
   "outputs": [
    {
     "name": "stdout",
     "output_type": "stream",
     "text": [
      "(175341, 42)\n",
      "(175341, 25)\n",
      "(175341, 42)\n",
      "(175341, 1)\n"
     ]
    },
    {
     "data": {
      "text/plain": [
       "pandas.core.frame.DataFrame"
      ]
     },
     "execution_count": 3,
     "metadata": {},
     "output_type": "execute_result"
    }
   ],
   "source": [
    "####################Reading the csv Files####################################\n",
    "x_train=pd.read_excel(r'G:\\Class_project\\A_train_samples.xlsx')\n",
    "y_train=pd.read_excel(r'G:\\Class_project\\A_train_labels.xlsx')\n",
    "x_test=pd.read_excel(r'G:\\Class_project\\A_test_samples.xlsx')\n",
    "y_test=pd.read_excel(r'G:\\Class_project\\A_test_labels.xlsx')\n",
    "x_train=x_train[['F1', 'F2', 'F3', 'F4', 'F5', 'F6', 'F7', 'F8', 'F9', 'F10', 'F11',\n",
    "       'F12', 'F13', 'F14', 'F15', 'F16', 'F17', 'F18', 'F19', 'F20', 'F21',\n",
    "       'F22', 'F23', 'F24', 'F25', 'F26', 'F27', 'F28', 'F29', 'F30', 'F31',\n",
    "       'F32', 'F33', 'F34', 'F35', 'F36', 'F37', 'F38', 'F39', 'F40', 'F41',\n",
    "       'F42']]\n",
    "print(x_train.shape)\n",
    "print(y_train.shape)\n",
    "print(x_test.shape)\n",
    "print(y_test.shape)\n",
    "type(y_train)"
   ]
  },
  {
   "cell_type": "code",
   "execution_count": 4,
   "metadata": {},
   "outputs": [],
   "source": [
    "####################scaling the training Data######################################\n",
    "scaler = MinMaxScaler()\n",
    "x_train_scl = scaler.fit_transform(x_train)\n",
    "x_test_scl = scaler.transform(x_test)\n",
    "#x_train_scl=to_dataframe(x_train_scl)\n",
    "x_train = pd.DataFrame(data=x_train_scl)\n",
    "x_test=pd.DataFrame(data=x_test_scl)"
   ]
  },
  {
   "cell_type": "code",
   "execution_count": 5,
   "metadata": {},
   "outputs": [],
   "source": [
    "################Creating Function to fit and evaluate the data###################\n",
    "def fit_and_evaluate(t_x, val_x, t_y, val_y, EPOCHS=100, BATCH_SIZE=1000):\n",
    "    results = model.fit(t_x, t_y, epochs=EPOCHS, batch_size=BATCH_SIZE, \n",
    "              verbose=1, validation_split=0.1)  \n",
    "    print(\"Val Score: \", model.evaluate(val_x, val_y))\n",
    "    return results"
   ]
  },
  {
   "cell_type": "code",
   "execution_count": 7,
   "metadata": {},
   "outputs": [],
   "source": [
    "y_train=y_train[['B','C5']]\n"
   ]
  },
  {
   "cell_type": "code",
   "execution_count": 17,
   "metadata": {
    "scrolled": true
   },
   "outputs": [
    {
     "name": "stdout",
     "output_type": "stream",
     "text": [
      "Training on Fold:  1\n",
      "Train on 142025 samples, validate on 15781 samples\n",
      "Epoch 1/1\n",
      "142025/142025 [==============================] - 5s 37us/step - loss: 8.4133 - accuracy: 0.5485 - val_loss: 6.0039 - val_accuracy: 0.5114\n",
      "17535/17535 [==============================] - 2s 137us/step\n",
      "Val Score:  [6.069020415426558, 0.506700873374939]\n",
      "175341/175341 [==============================] - 3s 14us/step\n",
      "Training on Fold:  1\n",
      "Train on 142025 samples, validate on 15781 samples\n",
      "Epoch 1/1\n",
      "142025/142025 [==============================] - 6s 40us/step - loss: 12.6670 - accuracy: 0.1445 - val_loss: 10.0663 - val_accuracy: 0.1091\n",
      "17535/17535 [==============================] - 2s 114us/step\n",
      "Val Score:  [10.096146707885586, 0.10333618521690369]\n",
      "175341/175341 [==============================] - 3s 16us/step\n",
      "accuracy\n",
      "['0.05643289536237717', '0.4562538266181946']\n",
      "f_score\n",
      "['0.056432893618720094', '0.4562538139967264']\n"
     ]
    },
    {
     "ename": "FileCreateError",
     "evalue": "[Errno 13] Permission denied: 'performance_a_a.xlsx'",
     "output_type": "error",
     "traceback": [
      "\u001b[1;31m---------------------------------------------------------------------------\u001b[0m",
      "\u001b[1;31mPermissionError\u001b[0m                           Traceback (most recent call last)",
      "\u001b[1;32mC:\\ProgramData\\Anaconda3\\lib\\site-packages\\xlsxwriter\\workbook.py\u001b[0m in \u001b[0;36mclose\u001b[1;34m(self)\u001b[0m\n\u001b[0;32m    310\u001b[0m             \u001b[1;32mtry\u001b[0m\u001b[1;33m:\u001b[0m\u001b[1;33m\u001b[0m\u001b[1;33m\u001b[0m\u001b[0m\n\u001b[1;32m--> 311\u001b[1;33m                 \u001b[0mself\u001b[0m\u001b[1;33m.\u001b[0m\u001b[0m_store_workbook\u001b[0m\u001b[1;33m(\u001b[0m\u001b[1;33m)\u001b[0m\u001b[1;33m\u001b[0m\u001b[1;33m\u001b[0m\u001b[0m\n\u001b[0m\u001b[0;32m    312\u001b[0m             \u001b[1;32mexcept\u001b[0m \u001b[0mIOError\u001b[0m \u001b[1;32mas\u001b[0m \u001b[0me\u001b[0m\u001b[1;33m:\u001b[0m\u001b[1;33m\u001b[0m\u001b[1;33m\u001b[0m\u001b[0m\n",
      "\u001b[1;32mC:\\ProgramData\\Anaconda3\\lib\\site-packages\\xlsxwriter\\workbook.py\u001b[0m in \u001b[0;36m_store_workbook\u001b[1;34m(self)\u001b[0m\n\u001b[0;32m    626\u001b[0m         \u001b[1;32mexcept\u001b[0m \u001b[0mIOError\u001b[0m \u001b[1;32mas\u001b[0m \u001b[0me\u001b[0m\u001b[1;33m:\u001b[0m\u001b[1;33m\u001b[0m\u001b[1;33m\u001b[0m\u001b[0m\n\u001b[1;32m--> 627\u001b[1;33m             \u001b[1;32mraise\u001b[0m \u001b[0me\u001b[0m\u001b[1;33m\u001b[0m\u001b[1;33m\u001b[0m\u001b[0m\n\u001b[0m\u001b[0;32m    628\u001b[0m \u001b[1;33m\u001b[0m\u001b[0m\n",
      "\u001b[1;32mC:\\ProgramData\\Anaconda3\\lib\\site-packages\\xlsxwriter\\workbook.py\u001b[0m in \u001b[0;36m_store_workbook\u001b[1;34m(self)\u001b[0m\n\u001b[0;32m    624\u001b[0m             xlsx_file = ZipFile(self.filename, \"w\", compression=ZIP_DEFLATED,\n\u001b[1;32m--> 625\u001b[1;33m                                 allowZip64=self.allow_zip64)\n\u001b[0m\u001b[0;32m    626\u001b[0m         \u001b[1;32mexcept\u001b[0m \u001b[0mIOError\u001b[0m \u001b[1;32mas\u001b[0m \u001b[0me\u001b[0m\u001b[1;33m:\u001b[0m\u001b[1;33m\u001b[0m\u001b[1;33m\u001b[0m\u001b[0m\n",
      "\u001b[1;32mC:\\ProgramData\\Anaconda3\\lib\\zipfile.py\u001b[0m in \u001b[0;36m__init__\u001b[1;34m(self, file, mode, compression, allowZip64, compresslevel)\u001b[0m\n\u001b[0;32m   1206\u001b[0m                 \u001b[1;32mtry\u001b[0m\u001b[1;33m:\u001b[0m\u001b[1;33m\u001b[0m\u001b[1;33m\u001b[0m\u001b[0m\n\u001b[1;32m-> 1207\u001b[1;33m                     \u001b[0mself\u001b[0m\u001b[1;33m.\u001b[0m\u001b[0mfp\u001b[0m \u001b[1;33m=\u001b[0m \u001b[0mio\u001b[0m\u001b[1;33m.\u001b[0m\u001b[0mopen\u001b[0m\u001b[1;33m(\u001b[0m\u001b[0mfile\u001b[0m\u001b[1;33m,\u001b[0m \u001b[0mfilemode\u001b[0m\u001b[1;33m)\u001b[0m\u001b[1;33m\u001b[0m\u001b[1;33m\u001b[0m\u001b[0m\n\u001b[0m\u001b[0;32m   1208\u001b[0m                 \u001b[1;32mexcept\u001b[0m \u001b[0mOSError\u001b[0m\u001b[1;33m:\u001b[0m\u001b[1;33m\u001b[0m\u001b[1;33m\u001b[0m\u001b[0m\n",
      "\u001b[1;31mPermissionError\u001b[0m: [Errno 13] Permission denied: 'performance_a_a.xlsx'",
      "\nDuring handling of the above exception, another exception occurred:\n",
      "\u001b[1;31mFileCreateError\u001b[0m                           Traceback (most recent call last)",
      "\u001b[1;32m<ipython-input-17-035dd948511e>\u001b[0m in \u001b[0;36m<module>\u001b[1;34m\u001b[0m\n\u001b[0;32m     79\u001b[0m \u001b[0mwriter\u001b[0m \u001b[1;33m=\u001b[0m \u001b[0mExcelWriter\u001b[0m\u001b[1;33m(\u001b[0m\u001b[1;34m\"performance_a_a.xlsx\"\u001b[0m\u001b[1;33m)\u001b[0m\u001b[1;33m\u001b[0m\u001b[1;33m\u001b[0m\u001b[0m\n\u001b[0;32m     80\u001b[0m \u001b[0mdf11\u001b[0m\u001b[1;33m.\u001b[0m\u001b[0mto_excel\u001b[0m\u001b[1;33m(\u001b[0m\u001b[0mwriter\u001b[0m\u001b[1;33m,\u001b[0m \u001b[1;34m'Sheet1'\u001b[0m\u001b[1;33m,\u001b[0m \u001b[0mindex\u001b[0m\u001b[1;33m=\u001b[0m\u001b[1;32mFalse\u001b[0m\u001b[1;33m)\u001b[0m\u001b[1;33m\u001b[0m\u001b[1;33m\u001b[0m\u001b[0m\n\u001b[1;32m---> 81\u001b[1;33m \u001b[0mwriter\u001b[0m\u001b[1;33m.\u001b[0m\u001b[0msave\u001b[0m\u001b[1;33m(\u001b[0m\u001b[1;33m)\u001b[0m\u001b[1;33m\u001b[0m\u001b[1;33m\u001b[0m\u001b[0m\n\u001b[0m\u001b[0;32m     82\u001b[0m \u001b[1;33m\u001b[0m\u001b[0m\n\u001b[0;32m     83\u001b[0m \u001b[1;33m\u001b[0m\u001b[0m\n",
      "\u001b[1;32mC:\\ProgramData\\Anaconda3\\lib\\site-packages\\pandas\\io\\excel\\_xlsxwriter.py\u001b[0m in \u001b[0;36msave\u001b[1;34m(self)\u001b[0m\n\u001b[0;32m    193\u001b[0m         \"\"\"\n\u001b[0;32m    194\u001b[0m \u001b[1;33m\u001b[0m\u001b[0m\n\u001b[1;32m--> 195\u001b[1;33m         \u001b[1;32mreturn\u001b[0m \u001b[0mself\u001b[0m\u001b[1;33m.\u001b[0m\u001b[0mbook\u001b[0m\u001b[1;33m.\u001b[0m\u001b[0mclose\u001b[0m\u001b[1;33m(\u001b[0m\u001b[1;33m)\u001b[0m\u001b[1;33m\u001b[0m\u001b[1;33m\u001b[0m\u001b[0m\n\u001b[0m\u001b[0;32m    196\u001b[0m \u001b[1;33m\u001b[0m\u001b[0m\n\u001b[0;32m    197\u001b[0m     def write_cells(\n",
      "\u001b[1;32mC:\\ProgramData\\Anaconda3\\lib\\site-packages\\xlsxwriter\\workbook.py\u001b[0m in \u001b[0;36mclose\u001b[1;34m(self)\u001b[0m\n\u001b[0;32m    311\u001b[0m                 \u001b[0mself\u001b[0m\u001b[1;33m.\u001b[0m\u001b[0m_store_workbook\u001b[0m\u001b[1;33m(\u001b[0m\u001b[1;33m)\u001b[0m\u001b[1;33m\u001b[0m\u001b[1;33m\u001b[0m\u001b[0m\n\u001b[0;32m    312\u001b[0m             \u001b[1;32mexcept\u001b[0m \u001b[0mIOError\u001b[0m \u001b[1;32mas\u001b[0m \u001b[0me\u001b[0m\u001b[1;33m:\u001b[0m\u001b[1;33m\u001b[0m\u001b[1;33m\u001b[0m\u001b[0m\n\u001b[1;32m--> 313\u001b[1;33m                 \u001b[1;32mraise\u001b[0m \u001b[0mFileCreateError\u001b[0m\u001b[1;33m(\u001b[0m\u001b[0me\u001b[0m\u001b[1;33m)\u001b[0m\u001b[1;33m\u001b[0m\u001b[1;33m\u001b[0m\u001b[0m\n\u001b[0m\u001b[0;32m    314\u001b[0m             \u001b[1;32mexcept\u001b[0m \u001b[0mLargeZipFile\u001b[0m \u001b[1;32mas\u001b[0m \u001b[0me\u001b[0m\u001b[1;33m:\u001b[0m\u001b[1;33m\u001b[0m\u001b[1;33m\u001b[0m\u001b[0m\n\u001b[0;32m    315\u001b[0m                 raise FileSizeError(\"Filesize would require ZIP64 extensions. \"\n",
      "\u001b[1;31mFileCreateError\u001b[0m: [Errno 13] Permission denied: 'performance_a_a.xlsx'"
     ]
    }
   ],
   "source": [
    "#############Creating loop for each column in y_train#################\n",
    "from pandas import ExcelWriter\n",
    "import statistics\n",
    "\n",
    "accuracy = []\n",
    "f_score = []\n",
    "y_pred_list = []\n",
    "\n",
    "from keras.layers import GaussianNoise\n",
    "t=y_train.columns\n",
    "count=0\n",
    "for i in range(y_train.shape[1]):\n",
    "    temp = \"\"\n",
    "    temp1 = \"\"\n",
    "    y_train_1=y_train[t[i]]\n",
    "    y_train_1=pd.DataFrame(y_train_1)\n",
    "    model = Sequential()\n",
    "    # in the first layer, you must specify the expected input data shape:\n",
    "    # here, 43-dimensional vectors.\n",
    "    model.add(Dense(64, activation='relu', input_dim=42))\n",
    "\n",
    "    model.add(Dense(128, activation='relu'))\n",
    "\n",
    "    model.add(Dense(128, activation='relu', kernel_regularizer=l2(0.1)))\n",
    "    model.add(BatchNormalization())\n",
    "    #model.add(Dropout(0.1))\n",
    "    model.add(Dense(11, activation='softmax'))\n",
    "    \n",
    "    model.add(Dense(512, activation = 'linear'))\n",
    "\n",
    "    #sgd = SGD(lr=0.01, decay=1e-6, momentum=0.9, nesterov=True)\n",
    "    model.compile(loss='sparse_categorical_crossentropy',optimizer='adam',metrics=['accuracy'])\n",
    "    n_folds=1\n",
    "    #save the model history in a list after fitting so that we can plot later\n",
    "    model_history = [] \n",
    "\n",
    "    for i in range(n_folds):\n",
    "        print(\"Training on Fold: \",i+1)\n",
    "        t_x, val_x, t_y, val_y = train_test_split(x_train, y_train_1, test_size=0.1,\n",
    "                                                  random_state = np.random.randint(1,1000, 1)[0])\n",
    "        model_history.append(fit_and_evaluate(t_x, val_x, t_y, val_y, 1,1000))\n",
    "        score = model.evaluate(x_test,y_test,batch_size=1000)\n",
    "        \n",
    "        temp += str(score[1])\n",
    "\n",
    "        y_pred=model.predict_classes(x_test)\n",
    "        \n",
    "        f1= f1_score(y_test, y_pred, average=\"micro\")\n",
    "        temp1 += str(f1)\n",
    "    \n",
    "    y_pred_list.append(y_pred)\n",
    "    \n",
    "    accuracy.append(temp)\n",
    "    f_score.append(temp1)\n",
    "df11 = pd.DataFrame({'B': y_pred_list[0], 'C5': y_pred_list[1]})\n",
    "#df11 = pd.DataFrame({'B': y_pred_list[0], 'C5': y_pred_list[1], 'C10': y_pred_list[2], 'C15': y_pred_list[3], 'C20': y_pred_list[4], 'C25': y_pred_list[5], 'C30': y_pred_list[6], 'C35': y_pred_list[7], 'C40': y_pred_list[8], 'A5': y_pred_list[9], 'A10': y_pred_list[10], 'A15': y_pred_list[11], 'A20': y_pred_list[12], 'A25': y_pred_list[13], 'A30': y_pred_list[14], 'A35': y_pred_list[15], 'A40': y_pred_list[16], 'N5': y_pred_list[17], 'N10': y_pred_list[18], 'N15': y_pred_list[19], 'N20': y_pred_list[20], 'N25': y_pred_list[21], 'N30': y_pred_list[22], 'N35': y_pred_list[23], 'N40': y_pred_list[24]})\n",
    "writer = ExcelWriter(\"a_prediction.xlsx\")\n",
    "df11.to_excel(writer, 'Sheet1', index=False)\n",
    "writer.save()\n",
    "\n",
    "print(\"accuracy\")    \n",
    "print(accuracy)\n",
    "print(\"f_score\")\n",
    "print(f_score)\n",
    "\n",
    "data_a = []\n",
    "for i in range(2):\n",
    "    data_a.append(list(map(float, accuracy[i].split(\",\")[:2])))\n",
    "    \n",
    "data_b = []\n",
    "\n",
    "for i in range(len(data_a)):\n",
    "    temp = data_a[i]\n",
    "    temp.append(statistics.mean(temp))\n",
    "    temp.append(statistics.stdev(temp))\n",
    "    data_b.append(temp)\n",
    "df11 = pd.DataFrame({'N1': data_b[0], 'N2': data_b[1]})\n",
    "#df11 = pd.DataFrame({'N1': data_b[0], 'N2': data_b[1], 'N3': data_b[2], 'N4': data_b[3], 'N5': data_b[4], 'N6': data_b[5], 'N7': data_b[6], 'N8': data_b[7], 'N9': data_b[8], 'N10': data_b[9], 'N11': data_b[10], 'N12': data_b[11], 'N13': data_b[12], 'N14': data_b[13], 'N15': data_b[14], 'N16': data_b[15], 'N17': data_b[16], 'N18': data_b[17], 'N19': data_b[18], 'N20': data_b[19], 'N21': data_b[20], 'N22': data_b[21], 'N23': data_b[22], 'N24': data_b[23], 'N25': data_b[24]})\n",
    "writer = ExcelWriter(\"performance_a_a.xlsx\")\n",
    "df11.to_excel(writer, 'Sheet1', index=False)\n",
    "writer.save()\n",
    "\n",
    "\n",
    "data_a = []\n",
    "for i in range(2):\n",
    "    data_a.append(list(map(float, f_score[i].split(\",\")[:2])))\n",
    "    \n",
    "data_b = []\n",
    "\n",
    "for i in range(len(data_a)):\n",
    "    temp = data_a[i]\n",
    "    temp.append(statistics.mean(temp))\n",
    "    temp.append(statistics.stdev(temp))\n",
    "    data_b.append(temp)\n",
    "df11 = pd.DataFrame({'N1': data_b[0], 'N2': data_b[1]})    \n",
    "#df11 = pd.DataFrame({'N1': data_b[0], 'N2': data_b[1], 'N3': data_b[2], 'N4': data_b[3], 'N5': data_b[4], 'N6': data_b[5], 'N7': data_b[6], 'N8': data_b[7], 'N9': data_b[8], 'N10': data_b[9], 'N11': data_b[10], 'N12': data_b[11], 'N13': data_b[12], 'N14': data_b[13], 'N15': data_b[14], 'N16': data_b[15], 'N17': data_b[16], 'N18': data_b[17], 'N19': data_b[18], 'N20': data_b[19], 'N21': data_b[20], 'N22': data_b[21], 'N23': data_b[22], 'N24': data_b[23], 'N25': data_b[24]})\n",
    "writer = ExcelWriter(\"performance_a_f.xlsx\")\n",
    "df11.to_excel(writer, 'Sheet1', index=False)\n",
    "writer.save()"
   ]
  },
  {
   "cell_type": "code",
   "execution_count": 15,
   "metadata": {},
   "outputs": [
    {
     "name": "stdout",
     "output_type": "stream",
     "text": [
      "17535\n"
     ]
    }
   ],
   "source": [
    "print(len(val_x))"
   ]
  },
  {
   "cell_type": "code",
   "execution_count": null,
   "metadata": {},
   "outputs": [],
   "source": []
  }
 ],
 "metadata": {
  "kernelspec": {
   "display_name": "Python 3",
   "language": "python",
   "name": "python3"
  },
  "language_info": {
   "codemirror_mode": {
    "name": "ipython",
    "version": 3
   },
   "file_extension": ".py",
   "mimetype": "text/x-python",
   "name": "python",
   "nbconvert_exporter": "python",
   "pygments_lexer": "ipython3",
   "version": "3.7.4"
  }
 },
 "nbformat": 4,
 "nbformat_minor": 2
}
