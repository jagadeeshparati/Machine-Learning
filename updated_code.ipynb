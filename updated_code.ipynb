{
 "cells": [
  {
   "cell_type": "code",
   "execution_count": 17,
   "metadata": {},
   "outputs": [],
   "source": [
    "###################importing libraries##############################\n",
    "from __future__ import print_function\n",
    "import pandas as pd\n",
    "import numpy as np\n",
    "import keras\n",
    "from keras.models import Sequential\n",
    "from keras.layers import Dense, Dropout, Activation\n",
    "from keras.optimizers import SGD\n",
    "from keras.layers.normalization import BatchNormalization\n",
    "from keras.regularizers import l2\n",
    "from sklearn.preprocessing import MinMaxScaler\n",
    "from sklearn.model_selection import train_test_split\n",
    "from sklearn.metrics import confusion_matrix, f1_score, precision_score, recall_score\n",
    "from openpyxl import load_workbook\n"
   ]
  },
  {
   "cell_type": "code",
   "execution_count": 2,
   "metadata": {},
   "outputs": [
    {
     "name": "stdout",
     "output_type": "stream",
     "text": [
      "(175341, 42)\n",
      "(175341, 25)\n",
      "(175341, 42)\n",
      "(175341, 1)\n"
     ]
    },
    {
     "data": {
      "text/plain": [
       "pandas.core.frame.DataFrame"
      ]
     },
     "execution_count": 2,
     "metadata": {},
     "output_type": "execute_result"
    }
   ],
   "source": [
    "####################Reading the csv Files####################################\n",
    "x_train=pd.read_csv(r'G:\\Class_project\\New_folder\\A_train_samples.csv')\n",
    "y_train=pd.read_csv(r'G:\\Class_project\\New_folder\\A_train_labels.csv')\n",
    "x_test=pd.read_csv(r'G:\\Class_project\\New_folder\\A_test_samples.csv')\n",
    "y_test=pd.read_csv(r'G:\\Class_project\\New_folder\\A_test_labels.csv')\n",
    "x_train=x_train[['F1', 'F2', 'F3', 'F4', 'F5', 'F6', 'F7', 'F8', 'F9', 'F10', 'F11',\n",
    "       'F12', 'F13', 'F14', 'F15', 'F16', 'F17', 'F18', 'F19', 'F20', 'F21',\n",
    "       'F22', 'F23', 'F24', 'F25', 'F26', 'F27', 'F28', 'F29', 'F30', 'F31',\n",
    "       'F32', 'F33', 'F34', 'F35', 'F36', 'F37', 'F38', 'F39', 'F40', 'F41',\n",
    "       'F42']]\n",
    "print(x_train.shape)\n",
    "print(y_train.shape)\n",
    "print(x_test.shape)\n",
    "print(y_test.shape)\n",
    "type(y_train)"
   ]
  },
  {
   "cell_type": "code",
   "execution_count": 3,
   "metadata": {},
   "outputs": [],
   "source": [
    "####################scaling the training Data######################################\n",
    "scaler = MinMaxScaler()\n",
    "x_train_scl = scaler.fit_transform(x_train)\n",
    "x_test_scl = scaler.transform(x_test)\n",
    "#x_train_scl=to_dataframe(x_train_scl)\n",
    "x_train = pd.DataFrame(data=x_train_scl)\n",
    "x_test=pd.DataFrame(data=x_test_scl)"
   ]
  },
  {
   "cell_type": "code",
   "execution_count": 4,
   "metadata": {},
   "outputs": [],
   "source": [
    "################Creating Function to fit and evaluate the data###################\n",
    "def fit_and_evaluate(t_x, val_x, t_y, val_y, EPOCHS=100, BATCH_SIZE=1000):\n",
    "    results = model.fit(t_x, t_y, epochs=EPOCHS, batch_size=BATCH_SIZE, \n",
    "              verbose=1, validation_split=0.1)  \n",
    "    print(\"Val Score: \", model.evaluate(val_x, val_y))\n",
    "    return results"
   ]
  },
  {
   "cell_type": "code",
   "execution_count": 5,
   "metadata": {},
   "outputs": [],
   "source": [
    "y_train=y_train[['B','C5','C10']]\n"
   ]
  },
  {
   "cell_type": "code",
   "execution_count": 16,
   "metadata": {},
   "outputs": [
    {
     "name": "stdout",
     "output_type": "stream",
     "text": [
      "Training on Fold:  1\n",
      "Train on 142025 samples, validate on 15781 samples\n",
      "Epoch 1/2\n",
      "142025/142025 [==============================] - 1s 7us/step - loss: 5.1100 - accuracy: 0.6896 - val_loss: 2.0007 - val_accuracy: 0.5119\n",
      "Epoch 2/2\n",
      "142025/142025 [==============================] - 1s 6us/step - loss: 0.8347 - accuracy: 0.7486 - val_loss: 1.3013 - val_accuracy: 0.5445\n",
      "17535/17535 [==============================] - 0s 17us/step\n",
      "Val Score:  [1.3122733804756057, 0.5382948517799377]\n",
      "175341/175341 [==============================] - 0s 2us/step\n",
      "Training on Fold:  1\n",
      "Train on 142025 samples, validate on 15781 samples\n",
      "Epoch 1/2\n",
      "142025/142025 [==============================] - 1s 9us/step - loss: 5.3117 - accuracy: 0.6583 - val_loss: 2.0772 - val_accuracy: 0.4903\n",
      "Epoch 2/2\n",
      "142025/142025 [==============================] - 1s 6us/step - loss: 1.0528 - accuracy: 0.7125 - val_loss: 1.4672 - val_accuracy: 0.4903\n",
      "17535/17535 [==============================] - 0s 17us/step\n",
      "Val Score:  [1.4955496320161583, 0.47835758328437805]\n",
      "175341/175341 [==============================] - 0s 2us/step\n",
      "Training on Fold:  1\n",
      "Train on 142025 samples, validate on 15781 samples\n",
      "Epoch 1/2\n",
      "142025/142025 [==============================] - 1s 8us/step - loss: 5.4068 - accuracy: 0.6201 - val_loss: 2.1813 - val_accuracy: 0.4588\n",
      "Epoch 2/2\n",
      "142025/142025 [==============================] - 1s 6us/step - loss: 1.2209 - accuracy: 0.6720 - val_loss: 1.6171 - val_accuracy: 0.4588\n",
      "17535/17535 [==============================] - 0s 17us/step\n",
      "Val Score:  [1.5932722725690107, 0.47128599882125854]\n",
      "175341/175341 [==============================] - 0s 2us/step\n"
     ]
    }
   ],
   "source": [
    "#############Creating loop for each column in y_train#################\n",
    "t=y_train.columns\n",
    "count=0\n",
    "for i in range(y_train.shape[1]):\n",
    "    y_train_1=y_train[t[i]]\n",
    "    y_train_1=pd.DataFrame(y_train_1)\n",
    "    model = Sequential()\n",
    "    # in the first layer, you must specify the expected input data shape:\n",
    "    # here, 43-dimensional vectors.\n",
    "    model.add(Dense(64, activation='relu', input_dim=42))\n",
    "\n",
    "    model.add(Dense(128, activation='relu'))\n",
    "\n",
    "    model.add(Dense(128, activation='relu', kernel_regularizer=l2(0.1)))\n",
    "    model.add(BatchNormalization())\n",
    "    #model.add(Dropout(0.1))\n",
    "    model.add(Dense(11, activation='softmax'))\n",
    "\n",
    "    #sgd = SGD(lr=0.01, decay=1e-6, momentum=0.9, nesterov=True)\n",
    "    model.compile(loss='sparse_categorical_crossentropy',optimizer='adam',metrics=['accuracy'])\n",
    "    n_folds=1\n",
    "    #save the model history in a list after fitting so that we can plot later\n",
    "    model_history = [] \n",
    "\n",
    "    for i in range(n_folds):\n",
    "        print(\"Training on Fold: \",i+1)\n",
    "        t_x, val_x, t_y, val_y = train_test_split(x_train, y_train_1, test_size=0.1,\n",
    "                                                  random_state = np.random.randint(1,1000, 1)[0])\n",
    "        model_history.append(fit_and_evaluate(t_x, val_x, t_y, val_y, 2,1000))\n",
    "        score = model.evaluate(x_test,y_test,batch_size=1000)\n",
    "        y_pred=model.predict_classes(x_test)\n",
    "        if count==0:\n",
    "            writer = pd.ExcelWriter('output.xlsx', engine='xlsxwriter')\n",
    "            pd.DataFrame(y_pred).to_excel(writer, sheet_name='Sheet_name_1')\n",
    "            writer.save()\n",
    "        else:\n",
    "            writer = pd.ExcelWriter('output.xlsx', engine='openpyxl')\n",
    "            writer.book = load_workbook('output.xlsx')\n",
    "            writer.sheets = dict((ws.title, ws) for ws in writer.book.worksheets)\n",
    "            reader = pd.read_excel(r'output.xlsx')\n",
    "            pd.DataFrame(y_pred).to_excel(writer,startcol=count+1)\n",
    "            writer.close()\n",
    "        count=+1\n",
    "        "
   ]
  },
  {
   "cell_type": "code",
   "execution_count": null,
   "metadata": {},
   "outputs": [],
   "source": []
  }
 ],
 "metadata": {
  "kernelspec": {
   "display_name": "Python 3",
   "language": "python",
   "name": "python3"
  },
  "language_info": {
   "codemirror_mode": {
    "name": "ipython",
    "version": 3
   },
   "file_extension": ".py",
   "mimetype": "text/x-python",
   "name": "python",
   "nbconvert_exporter": "python",
   "pygments_lexer": "ipython3",
   "version": "3.7.4"
  }
 },
 "nbformat": 4,
 "nbformat_minor": 2
}
