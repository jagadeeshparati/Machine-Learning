{
 "cells": [
  {
   "cell_type": "markdown",
   "metadata": {},
   "source": [
    "# Credit Default Prediction"
   ]
  },
  {
   "cell_type": "markdown",
   "metadata": {},
   "source": [
    "Bad: these indicate if customer is bad (=1)\n",
    "Predict the customers with high risk."
   ]
  },
  {
   "cell_type": "markdown",
   "metadata": {},
   "source": [
    " <hr>"
   ]
  },
  {
   "cell_type": "code",
   "execution_count": 67,
   "metadata": {},
   "outputs": [],
   "source": [
    "import pandas as pd\n",
    "import matplotlib.pyplot as plt\n",
    "import seaborn as sns\n",
    "import numpy as np\n",
    "import imblearn\n"
   ]
  },
  {
   "cell_type": "markdown",
   "metadata": {},
   "source": [
    "## Exploratory Data Analysis"
   ]
  },
  {
   "cell_type": "code",
   "execution_count": 4,
   "metadata": {},
   "outputs": [],
   "source": [
    "data=pd.read_excel('dataset_final.xlsx')"
   ]
  },
  {
   "cell_type": "code",
   "execution_count": 68,
   "metadata": {},
   "outputs": [
    {
     "name": "stdout",
     "output_type": "stream",
     "text": [
      "<class 'pandas.core.frame.DataFrame'>\n",
      "RangeIndex: 22620 entries, 0 to 22619\n",
      "Columns: 677 entries, count to a273_4\n",
      "dtypes: int64(3), uint8(674)\n",
      "memory usage: 15.1 MB\n"
     ]
    }
   ],
   "source": [
    "df.info()"
   ]
  },
  {
   "cell_type": "code",
   "execution_count": 69,
   "metadata": {},
   "outputs": [
    {
     "data": {
      "text/html": [
       "<div>\n",
       "<style scoped>\n",
       "    .dataframe tbody tr th:only-of-type {\n",
       "        vertical-align: middle;\n",
       "    }\n",
       "\n",
       "    .dataframe tbody tr th {\n",
       "        vertical-align: top;\n",
       "    }\n",
       "\n",
       "    .dataframe thead th {\n",
       "        text-align: right;\n",
       "    }\n",
       "</style>\n",
       "<table border=\"1\" class=\"dataframe\">\n",
       "  <thead>\n",
       "    <tr style=\"text-align: right;\">\n",
       "      <th></th>\n",
       "      <th>count</th>\n",
       "      <th>cust</th>\n",
       "      <th>bad</th>\n",
       "      <th>a1_1</th>\n",
       "      <th>a1_2</th>\n",
       "      <th>a2_1</th>\n",
       "      <th>a2_2</th>\n",
       "      <th>a3_1</th>\n",
       "      <th>a3_2</th>\n",
       "      <th>a4_1</th>\n",
       "      <th>...</th>\n",
       "      <th>a271_2</th>\n",
       "      <th>a271_3</th>\n",
       "      <th>a272_1</th>\n",
       "      <th>a272_2</th>\n",
       "      <th>a272_3</th>\n",
       "      <th>a272_4</th>\n",
       "      <th>a273_1</th>\n",
       "      <th>a273_2</th>\n",
       "      <th>a273_3</th>\n",
       "      <th>a273_4</th>\n",
       "    </tr>\n",
       "  </thead>\n",
       "  <tbody>\n",
       "    <tr>\n",
       "      <td>0</td>\n",
       "      <td>1</td>\n",
       "      <td>16480</td>\n",
       "      <td>0</td>\n",
       "      <td>0</td>\n",
       "      <td>1</td>\n",
       "      <td>0</td>\n",
       "      <td>1</td>\n",
       "      <td>0</td>\n",
       "      <td>1</td>\n",
       "      <td>0</td>\n",
       "      <td>...</td>\n",
       "      <td>0</td>\n",
       "      <td>0</td>\n",
       "      <td>1</td>\n",
       "      <td>0</td>\n",
       "      <td>0</td>\n",
       "      <td>0</td>\n",
       "      <td>0</td>\n",
       "      <td>1</td>\n",
       "      <td>0</td>\n",
       "      <td>0</td>\n",
       "    </tr>\n",
       "    <tr>\n",
       "      <td>1</td>\n",
       "      <td>2</td>\n",
       "      <td>16634</td>\n",
       "      <td>1</td>\n",
       "      <td>0</td>\n",
       "      <td>1</td>\n",
       "      <td>0</td>\n",
       "      <td>1</td>\n",
       "      <td>0</td>\n",
       "      <td>1</td>\n",
       "      <td>1</td>\n",
       "      <td>...</td>\n",
       "      <td>0</td>\n",
       "      <td>1</td>\n",
       "      <td>0</td>\n",
       "      <td>0</td>\n",
       "      <td>0</td>\n",
       "      <td>1</td>\n",
       "      <td>0</td>\n",
       "      <td>0</td>\n",
       "      <td>0</td>\n",
       "      <td>1</td>\n",
       "    </tr>\n",
       "    <tr>\n",
       "      <td>2</td>\n",
       "      <td>3</td>\n",
       "      <td>18482</td>\n",
       "      <td>0</td>\n",
       "      <td>0</td>\n",
       "      <td>1</td>\n",
       "      <td>0</td>\n",
       "      <td>1</td>\n",
       "      <td>0</td>\n",
       "      <td>1</td>\n",
       "      <td>1</td>\n",
       "      <td>...</td>\n",
       "      <td>0</td>\n",
       "      <td>1</td>\n",
       "      <td>0</td>\n",
       "      <td>0</td>\n",
       "      <td>0</td>\n",
       "      <td>1</td>\n",
       "      <td>0</td>\n",
       "      <td>0</td>\n",
       "      <td>1</td>\n",
       "      <td>0</td>\n",
       "    </tr>\n",
       "    <tr>\n",
       "      <td>3</td>\n",
       "      <td>4</td>\n",
       "      <td>18713</td>\n",
       "      <td>0</td>\n",
       "      <td>1</td>\n",
       "      <td>0</td>\n",
       "      <td>0</td>\n",
       "      <td>1</td>\n",
       "      <td>0</td>\n",
       "      <td>1</td>\n",
       "      <td>1</td>\n",
       "      <td>...</td>\n",
       "      <td>0</td>\n",
       "      <td>1</td>\n",
       "      <td>0</td>\n",
       "      <td>0</td>\n",
       "      <td>0</td>\n",
       "      <td>1</td>\n",
       "      <td>0</td>\n",
       "      <td>0</td>\n",
       "      <td>0</td>\n",
       "      <td>1</td>\n",
       "    </tr>\n",
       "    <tr>\n",
       "      <td>4</td>\n",
       "      <td>5</td>\n",
       "      <td>19252</td>\n",
       "      <td>0</td>\n",
       "      <td>1</td>\n",
       "      <td>0</td>\n",
       "      <td>0</td>\n",
       "      <td>1</td>\n",
       "      <td>0</td>\n",
       "      <td>1</td>\n",
       "      <td>1</td>\n",
       "      <td>...</td>\n",
       "      <td>0</td>\n",
       "      <td>1</td>\n",
       "      <td>0</td>\n",
       "      <td>0</td>\n",
       "      <td>0</td>\n",
       "      <td>1</td>\n",
       "      <td>0</td>\n",
       "      <td>0</td>\n",
       "      <td>1</td>\n",
       "      <td>0</td>\n",
       "    </tr>\n",
       "  </tbody>\n",
       "</table>\n",
       "<p>5 rows × 677 columns</p>\n",
       "</div>"
      ],
      "text/plain": [
       "   count   cust  bad  a1_1  a1_2  a2_1  a2_2  a3_1  a3_2  a4_1  ...  a271_2  \\\n",
       "0      1  16480    0     0     1     0     1     0     1     0  ...       0   \n",
       "1      2  16634    1     0     1     0     1     0     1     1  ...       0   \n",
       "2      3  18482    0     0     1     0     1     0     1     1  ...       0   \n",
       "3      4  18713    0     1     0     0     1     0     1     1  ...       0   \n",
       "4      5  19252    0     1     0     0     1     0     1     1  ...       0   \n",
       "\n",
       "   a271_3  a272_1  a272_2  a272_3  a272_4  a273_1  a273_2  a273_3  a273_4  \n",
       "0       0       1       0       0       0       0       1       0       0  \n",
       "1       1       0       0       0       1       0       0       0       1  \n",
       "2       1       0       0       0       1       0       0       1       0  \n",
       "3       1       0       0       0       1       0       0       0       1  \n",
       "4       1       0       0       0       1       0       0       1       0  \n",
       "\n",
       "[5 rows x 677 columns]"
      ]
     },
     "execution_count": 69,
     "metadata": {},
     "output_type": "execute_result"
    }
   ],
   "source": [
    "df=pd.get_dummies(data=data, columns=['a1' ,'a2' ,'a3' ,'a4' ,'a5' ,'a6' ,'a7' ,'a8' ,'a9' ,'a10' ,'a11' ,'a12' ,'a13' ,'a14' ,'a15' ,'a16' ,'a17' ,'a18' ,'a19' ,'a20' ,'a21' ,'a22' ,'a23' ,'a24' ,'a25' ,'a26' ,'a27' ,'a28' ,'a29' ,'a30' ,'a31' ,'a32' ,'a33' ,'a34' ,'a35' ,'a36' ,'a37' ,'a38' ,'a39' ,'a40' ,'a41' ,'a42' ,'a43' ,'a44' ,'a45' ,'a46' ,'a47' ,'a48' ,'a49' ,'a50' ,'a51' ,'a52' ,'a53' ,'a54' ,'a55' ,'a56' ,'a57' ,'a58' ,'a59' ,'a60' ,'a61' ,'a62' ,'a63' ,'a64' ,'a65' ,'a66' ,'a67' ,'a68' ,'a69' ,'a70' ,'a71' ,'a72' ,'a73' ,'a74' ,'a75' ,'a76' ,'a77' ,'a78' ,'a79' ,'a80' ,'a81' ,'a82' ,'a83' ,'a84' ,'a85' ,'a86' ,'a87' ,'a88' ,'a89' ,'a90' ,'a91' ,'a92' ,'a93' ,'a94' ,'a95' ,'a96' ,'a97' ,'a98' ,'a99' ,'a100' ,'a101' ,'a102' ,'a103' ,'a104' ,'a105' ,'a106' ,'a107' ,'a108' ,'a109' ,'a110' ,'a111' ,'a112' ,'a113' ,'a114' ,'a115' ,'a116' ,'a117' ,'a118' ,'a119' ,'a120' ,'a121' ,'a122' ,'a123' ,'a124' ,'a125' ,'a126' ,'a127' ,'a128' ,'a129' ,'a130' ,'a131' ,'a132' ,'a133' ,'a134' ,'a135' ,'a136' ,'a137' ,'a138' ,'a139' ,'a140' ,'a141' ,'a142' ,'a143' ,'a144' ,'a145' ,'a146' ,'a147' ,'a148' ,'a149' ,'a150' ,'a151' ,'a152' ,'a153' ,'a154' ,'a155' ,'a156' ,'a157' ,'a158' ,'a159' ,'a160' ,'a161' ,'a162' ,'a163' ,'a164' ,'a165' ,'a166' ,'a167' ,'a168' ,'a169' ,'a170' ,'a171' ,'a172' ,'a173' ,'a174' ,'a175' ,'a176' ,'a177' ,'a178' ,'a179' ,'a180' ,'a181' ,'a182' ,'a183' ,'a184' ,'a185' ,'a186' ,'a187' ,'a188' ,'a189' ,'a190' ,'a191' ,'a192' ,'a193' ,'a194' ,'a195' ,'a196' ,'a197' ,'a198' ,'a199' ,'a200' ,'a201' ,'a202' ,'a203' ,'a204' ,'a205' ,'a206' ,'a207' ,'a208' ,'a209' ,'a210' ,'a211' ,'a212' ,'a213' ,'a214' ,'a215' ,'a216' ,'a217' ,'a218' ,'a219' ,'a220' ,'a221' ,'a222' ,'a223' ,'a224' ,'a225' ,'a226' ,'a227' ,'a228' ,'a229' ,'a230' ,'a231' ,'a232' ,'a233' ,'a234' ,'a235' ,'a236' ,'a237' ,'a238' ,'a239' ,'a240' ,'a241' ,'a242' ,'a243' ,'a244' ,'a245' ,'a246' ,'a247' ,'a248' ,'a249' ,'a250' ,'a251' ,'a252' ,'a253' ,'a254' ,'a255' ,'a256' ,'a257' ,'a258' ,'a259' ,'a260' ,'a261' ,'a262' ,'a263' ,'a264' ,'a265' ,'a266' ,'a267' ,'a268' ,'a269' ,'a270' ,'a271' ,'a272' ,'a273'])\n",
    "df.head()"
   ]
  },
  {
   "cell_type": "code",
   "execution_count": 75,
   "metadata": {},
   "outputs": [
    {
     "data": {
      "text/plain": [
       "0"
      ]
     },
     "execution_count": 75,
     "metadata": {},
     "output_type": "execute_result"
    }
   ],
   "source": [
    "df.isna().sum().sum()"
   ]
  },
  {
   "cell_type": "code",
   "execution_count": 76,
   "metadata": {},
   "outputs": [
    {
     "data": {
      "text/html": [
       "<div>\n",
       "<style scoped>\n",
       "    .dataframe tbody tr th:only-of-type {\n",
       "        vertical-align: middle;\n",
       "    }\n",
       "\n",
       "    .dataframe tbody tr th {\n",
       "        vertical-align: top;\n",
       "    }\n",
       "\n",
       "    .dataframe thead th {\n",
       "        text-align: right;\n",
       "    }\n",
       "</style>\n",
       "<table border=\"1\" class=\"dataframe\">\n",
       "  <thead>\n",
       "    <tr style=\"text-align: right;\">\n",
       "      <th></th>\n",
       "      <th>count</th>\n",
       "      <th>cust</th>\n",
       "      <th>bad</th>\n",
       "      <th>a1_1</th>\n",
       "      <th>a1_2</th>\n",
       "      <th>a2_1</th>\n",
       "      <th>a2_2</th>\n",
       "      <th>a3_1</th>\n",
       "      <th>a3_2</th>\n",
       "      <th>a4_1</th>\n",
       "      <th>...</th>\n",
       "      <th>a271_2</th>\n",
       "      <th>a271_3</th>\n",
       "      <th>a272_1</th>\n",
       "      <th>a272_2</th>\n",
       "      <th>a272_3</th>\n",
       "      <th>a272_4</th>\n",
       "      <th>a273_1</th>\n",
       "      <th>a273_2</th>\n",
       "      <th>a273_3</th>\n",
       "      <th>a273_4</th>\n",
       "    </tr>\n",
       "  </thead>\n",
       "  <tbody>\n",
       "    <tr>\n",
       "      <td>count</td>\n",
       "      <td>22620.000000</td>\n",
       "      <td>2.262000e+04</td>\n",
       "      <td>22620.000000</td>\n",
       "      <td>22620.000000</td>\n",
       "      <td>22620.000000</td>\n",
       "      <td>22620.000000</td>\n",
       "      <td>22620.000000</td>\n",
       "      <td>22620.000000</td>\n",
       "      <td>22620.000000</td>\n",
       "      <td>22620.000000</td>\n",
       "      <td>...</td>\n",
       "      <td>22620.000000</td>\n",
       "      <td>22620.000000</td>\n",
       "      <td>22620.000000</td>\n",
       "      <td>22620.000000</td>\n",
       "      <td>22620.000000</td>\n",
       "      <td>22620.000000</td>\n",
       "      <td>22620.000000</td>\n",
       "      <td>22620.000000</td>\n",
       "      <td>22620.000000</td>\n",
       "      <td>22620.000000</td>\n",
       "    </tr>\n",
       "    <tr>\n",
       "      <td>mean</td>\n",
       "      <td>11310.500000</td>\n",
       "      <td>5.618493e+06</td>\n",
       "      <td>0.090451</td>\n",
       "      <td>0.123077</td>\n",
       "      <td>0.876923</td>\n",
       "      <td>0.554775</td>\n",
       "      <td>0.445225</td>\n",
       "      <td>0.492617</td>\n",
       "      <td>0.507383</td>\n",
       "      <td>0.867241</td>\n",
       "      <td>...</td>\n",
       "      <td>0.465782</td>\n",
       "      <td>0.464721</td>\n",
       "      <td>0.069496</td>\n",
       "      <td>0.193811</td>\n",
       "      <td>0.271972</td>\n",
       "      <td>0.464721</td>\n",
       "      <td>0.330902</td>\n",
       "      <td>0.318126</td>\n",
       "      <td>0.227144</td>\n",
       "      <td>0.123828</td>\n",
       "    </tr>\n",
       "    <tr>\n",
       "      <td>std</td>\n",
       "      <td>6529.975881</td>\n",
       "      <td>4.419618e+06</td>\n",
       "      <td>0.286833</td>\n",
       "      <td>0.328533</td>\n",
       "      <td>0.328533</td>\n",
       "      <td>0.497002</td>\n",
       "      <td>0.497002</td>\n",
       "      <td>0.499957</td>\n",
       "      <td>0.499957</td>\n",
       "      <td>0.339321</td>\n",
       "      <td>...</td>\n",
       "      <td>0.498839</td>\n",
       "      <td>0.498765</td>\n",
       "      <td>0.254301</td>\n",
       "      <td>0.395291</td>\n",
       "      <td>0.444985</td>\n",
       "      <td>0.498765</td>\n",
       "      <td>0.470548</td>\n",
       "      <td>0.465759</td>\n",
       "      <td>0.418996</td>\n",
       "      <td>0.329393</td>\n",
       "    </tr>\n",
       "    <tr>\n",
       "      <td>min</td>\n",
       "      <td>1.000000</td>\n",
       "      <td>1.648000e+04</td>\n",
       "      <td>0.000000</td>\n",
       "      <td>0.000000</td>\n",
       "      <td>0.000000</td>\n",
       "      <td>0.000000</td>\n",
       "      <td>0.000000</td>\n",
       "      <td>0.000000</td>\n",
       "      <td>0.000000</td>\n",
       "      <td>0.000000</td>\n",
       "      <td>...</td>\n",
       "      <td>0.000000</td>\n",
       "      <td>0.000000</td>\n",
       "      <td>0.000000</td>\n",
       "      <td>0.000000</td>\n",
       "      <td>0.000000</td>\n",
       "      <td>0.000000</td>\n",
       "      <td>0.000000</td>\n",
       "      <td>0.000000</td>\n",
       "      <td>0.000000</td>\n",
       "      <td>0.000000</td>\n",
       "    </tr>\n",
       "    <tr>\n",
       "      <td>25%</td>\n",
       "      <td>5655.750000</td>\n",
       "      <td>1.822630e+06</td>\n",
       "      <td>0.000000</td>\n",
       "      <td>0.000000</td>\n",
       "      <td>1.000000</td>\n",
       "      <td>0.000000</td>\n",
       "      <td>0.000000</td>\n",
       "      <td>0.000000</td>\n",
       "      <td>0.000000</td>\n",
       "      <td>1.000000</td>\n",
       "      <td>...</td>\n",
       "      <td>0.000000</td>\n",
       "      <td>0.000000</td>\n",
       "      <td>0.000000</td>\n",
       "      <td>0.000000</td>\n",
       "      <td>0.000000</td>\n",
       "      <td>0.000000</td>\n",
       "      <td>0.000000</td>\n",
       "      <td>0.000000</td>\n",
       "      <td>0.000000</td>\n",
       "      <td>0.000000</td>\n",
       "    </tr>\n",
       "    <tr>\n",
       "      <td>50%</td>\n",
       "      <td>11310.500000</td>\n",
       "      <td>4.246013e+06</td>\n",
       "      <td>0.000000</td>\n",
       "      <td>0.000000</td>\n",
       "      <td>1.000000</td>\n",
       "      <td>1.000000</td>\n",
       "      <td>0.000000</td>\n",
       "      <td>0.000000</td>\n",
       "      <td>1.000000</td>\n",
       "      <td>1.000000</td>\n",
       "      <td>...</td>\n",
       "      <td>0.000000</td>\n",
       "      <td>0.000000</td>\n",
       "      <td>0.000000</td>\n",
       "      <td>0.000000</td>\n",
       "      <td>0.000000</td>\n",
       "      <td>0.000000</td>\n",
       "      <td>0.000000</td>\n",
       "      <td>0.000000</td>\n",
       "      <td>0.000000</td>\n",
       "      <td>0.000000</td>\n",
       "    </tr>\n",
       "    <tr>\n",
       "      <td>75%</td>\n",
       "      <td>16965.250000</td>\n",
       "      <td>9.065963e+06</td>\n",
       "      <td>0.000000</td>\n",
       "      <td>0.000000</td>\n",
       "      <td>1.000000</td>\n",
       "      <td>1.000000</td>\n",
       "      <td>1.000000</td>\n",
       "      <td>1.000000</td>\n",
       "      <td>1.000000</td>\n",
       "      <td>1.000000</td>\n",
       "      <td>...</td>\n",
       "      <td>1.000000</td>\n",
       "      <td>1.000000</td>\n",
       "      <td>0.000000</td>\n",
       "      <td>0.000000</td>\n",
       "      <td>1.000000</td>\n",
       "      <td>1.000000</td>\n",
       "      <td>1.000000</td>\n",
       "      <td>1.000000</td>\n",
       "      <td>0.000000</td>\n",
       "      <td>0.000000</td>\n",
       "    </tr>\n",
       "    <tr>\n",
       "      <td>max</td>\n",
       "      <td>22620.000000</td>\n",
       "      <td>1.568583e+07</td>\n",
       "      <td>1.000000</td>\n",
       "      <td>1.000000</td>\n",
       "      <td>1.000000</td>\n",
       "      <td>1.000000</td>\n",
       "      <td>1.000000</td>\n",
       "      <td>1.000000</td>\n",
       "      <td>1.000000</td>\n",
       "      <td>1.000000</td>\n",
       "      <td>...</td>\n",
       "      <td>1.000000</td>\n",
       "      <td>1.000000</td>\n",
       "      <td>1.000000</td>\n",
       "      <td>1.000000</td>\n",
       "      <td>1.000000</td>\n",
       "      <td>1.000000</td>\n",
       "      <td>1.000000</td>\n",
       "      <td>1.000000</td>\n",
       "      <td>1.000000</td>\n",
       "      <td>1.000000</td>\n",
       "    </tr>\n",
       "  </tbody>\n",
       "</table>\n",
       "<p>8 rows × 677 columns</p>\n",
       "</div>"
      ],
      "text/plain": [
       "              count          cust           bad          a1_1          a1_2  \\\n",
       "count  22620.000000  2.262000e+04  22620.000000  22620.000000  22620.000000   \n",
       "mean   11310.500000  5.618493e+06      0.090451      0.123077      0.876923   \n",
       "std     6529.975881  4.419618e+06      0.286833      0.328533      0.328533   \n",
       "min        1.000000  1.648000e+04      0.000000      0.000000      0.000000   \n",
       "25%     5655.750000  1.822630e+06      0.000000      0.000000      1.000000   \n",
       "50%    11310.500000  4.246013e+06      0.000000      0.000000      1.000000   \n",
       "75%    16965.250000  9.065963e+06      0.000000      0.000000      1.000000   \n",
       "max    22620.000000  1.568583e+07      1.000000      1.000000      1.000000   \n",
       "\n",
       "               a2_1          a2_2          a3_1          a3_2          a4_1  \\\n",
       "count  22620.000000  22620.000000  22620.000000  22620.000000  22620.000000   \n",
       "mean       0.554775      0.445225      0.492617      0.507383      0.867241   \n",
       "std        0.497002      0.497002      0.499957      0.499957      0.339321   \n",
       "min        0.000000      0.000000      0.000000      0.000000      0.000000   \n",
       "25%        0.000000      0.000000      0.000000      0.000000      1.000000   \n",
       "50%        1.000000      0.000000      0.000000      1.000000      1.000000   \n",
       "75%        1.000000      1.000000      1.000000      1.000000      1.000000   \n",
       "max        1.000000      1.000000      1.000000      1.000000      1.000000   \n",
       "\n",
       "       ...        a271_2        a271_3        a272_1        a272_2  \\\n",
       "count  ...  22620.000000  22620.000000  22620.000000  22620.000000   \n",
       "mean   ...      0.465782      0.464721      0.069496      0.193811   \n",
       "std    ...      0.498839      0.498765      0.254301      0.395291   \n",
       "min    ...      0.000000      0.000000      0.000000      0.000000   \n",
       "25%    ...      0.000000      0.000000      0.000000      0.000000   \n",
       "50%    ...      0.000000      0.000000      0.000000      0.000000   \n",
       "75%    ...      1.000000      1.000000      0.000000      0.000000   \n",
       "max    ...      1.000000      1.000000      1.000000      1.000000   \n",
       "\n",
       "             a272_3        a272_4        a273_1        a273_2        a273_3  \\\n",
       "count  22620.000000  22620.000000  22620.000000  22620.000000  22620.000000   \n",
       "mean       0.271972      0.464721      0.330902      0.318126      0.227144   \n",
       "std        0.444985      0.498765      0.470548      0.465759      0.418996   \n",
       "min        0.000000      0.000000      0.000000      0.000000      0.000000   \n",
       "25%        0.000000      0.000000      0.000000      0.000000      0.000000   \n",
       "50%        0.000000      0.000000      0.000000      0.000000      0.000000   \n",
       "75%        1.000000      1.000000      1.000000      1.000000      0.000000   \n",
       "max        1.000000      1.000000      1.000000      1.000000      1.000000   \n",
       "\n",
       "             a273_4  \n",
       "count  22620.000000  \n",
       "mean       0.123828  \n",
       "std        0.329393  \n",
       "min        0.000000  \n",
       "25%        0.000000  \n",
       "50%        0.000000  \n",
       "75%        0.000000  \n",
       "max        1.000000  \n",
       "\n",
       "[8 rows x 677 columns]"
      ]
     },
     "execution_count": 76,
     "metadata": {},
     "output_type": "execute_result"
    }
   ],
   "source": [
    "df.describe()"
   ]
  },
  {
   "cell_type": "code",
   "execution_count": 77,
   "metadata": {},
   "outputs": [],
   "source": [
    "# Putting feature variables to X\n",
    "x = df.drop(['bad','cust','count'],axis=1)\n",
    "\n",
    "# Putting response variable to y\n",
    "y = pd.DataFrame(df['bad'])"
   ]
  },
  {
   "cell_type": "code",
   "execution_count": 78,
   "metadata": {},
   "outputs": [
    {
     "data": {
      "text/plain": [
       "0    20574\n",
       "1     2046\n",
       "Name: bad, dtype: int64"
      ]
     },
     "execution_count": 78,
     "metadata": {},
     "output_type": "execute_result"
    }
   ],
   "source": [
    "y['bad'].value_counts()"
   ]
  },
  {
   "cell_type": "markdown",
   "metadata": {},
   "source": [
    "As the target variable is highly imbalanced we are oversampling the minority class using SMOTE "
   ]
  },
  {
   "cell_type": "code",
   "execution_count": 79,
   "metadata": {},
   "outputs": [],
   "source": [
    "from imblearn.over_sampling import SMOTE\n",
    "\n",
    "sm = SMOTE(sampling_strategy='minority',random_state=27)\n",
    "X,Y = sm.fit_sample(x, y)"
   ]
  },
  {
   "cell_type": "code",
   "execution_count": 44,
   "metadata": {},
   "outputs": [],
   "source": [
    "# Splitting the data into train and test\n",
    "\n",
    "from sklearn.model_selection import train_test_split,RepeatedStratifiedKFold,cross_val_score\n",
    "\n",
    "X_train, X_test, Y_train, Y_test = train_test_split(X,Y, train_size=0.7,test_size=0.3,stratify=Y,random_state=100)"
   ]
  },
  {
   "cell_type": "markdown",
   "metadata": {},
   "source": [
    "## Building the Model"
   ]
  },
  {
   "cell_type": "code",
   "execution_count": 46,
   "metadata": {},
   "outputs": [],
   "source": [
    "# Importing random forest classifier from sklearn library\n",
    "from sklearn.ensemble import RandomForestClassifier\n",
    "\n",
    "# Running the random forest with default parameters.\n",
    "rfc = RandomForestClassifier()"
   ]
  },
  {
   "cell_type": "markdown",
   "metadata": {},
   "source": [
    "Building the model using Cross Val Score"
   ]
  },
  {
   "cell_type": "code",
   "execution_count": 50,
   "metadata": {},
   "outputs": [],
   "source": [
    "from sklearn import metrics\n",
    "\n",
    "cv = RepeatedStratifiedKFold(n_splits=10, n_repeats=5, random_state=10)\n",
    "# evaluate model\n",
    "w={0:1,1:10}\n",
    "model=RandomForestClassifier(n_estimators=200,random_state=0)\n",
    "\n",
    "#model=LogisticRegression(solver='liblinear',class_weight=w,random_state=1)\n",
    "scores = cross_val_score(model, X, Y.values.ravel(), scoring='roc_auc', cv=cv)\n",
    "\n"
   ]
  },
  {
   "cell_type": "code",
   "execution_count": 51,
   "metadata": {},
   "outputs": [
    {
     "name": "stdout",
     "output_type": "stream",
     "text": [
      "0.9697262273887773\n"
     ]
    }
   ],
   "source": [
    "print(np.mean(scores))"
   ]
  },
  {
   "cell_type": "markdown",
   "metadata": {},
   "source": [
    " Grid Search to Find Optimal Hyperparameters"
   ]
  },
  {
   "cell_type": "code",
   "execution_count": 53,
   "metadata": {},
   "outputs": [],
   "source": [
    "from sklearn.model_selection import GridSearchCV\n",
    "param_grid = {\n",
    "    'max_depth': [4,8,10],\n",
    "    'min_samples_leaf': range(100, 400, 200),\n",
    "    'min_samples_split': range(200, 500, 200),\n",
    "    'n_estimators': [100,200, 300], \n",
    "    'max_features': [5, 10]\n",
    "}\n",
    "# Create a based model\n",
    "rf = RandomForestClassifier()\n",
    "# Instantiate the grid search model\n",
    "grid_search = GridSearchCV(estimator = rf, param_grid = param_grid, \n",
    "                          cv = 3, n_jobs = -1,verbose = 1)"
   ]
  },
  {
   "cell_type": "code",
   "execution_count": 55,
   "metadata": {},
   "outputs": [
    {
     "name": "stdout",
     "output_type": "stream",
     "text": [
      "Fitting 3 folds for each of 72 candidates, totalling 216 fits\n"
     ]
    },
    {
     "name": "stderr",
     "output_type": "stream",
     "text": [
      "[Parallel(n_jobs=-1)]: Using backend LokyBackend with 8 concurrent workers.\n",
      "[Parallel(n_jobs=-1)]: Done  34 tasks      | elapsed:   30.6s\n",
      "[Parallel(n_jobs=-1)]: Done 184 tasks      | elapsed:  2.0min\n",
      "[Parallel(n_jobs=-1)]: Done 216 out of 216 | elapsed:  2.4min finished\n"
     ]
    },
    {
     "data": {
      "text/plain": [
       "GridSearchCV(cv=3, estimator=RandomForestClassifier(), n_jobs=-1,\n",
       "             param_grid={'max_depth': [4, 8, 10], 'max_features': [5, 10],\n",
       "                         'min_samples_leaf': range(100, 400, 200),\n",
       "                         'min_samples_split': range(200, 500, 200),\n",
       "                         'n_estimators': [100, 200, 300]},\n",
       "             verbose=1)"
      ]
     },
     "execution_count": 55,
     "metadata": {},
     "output_type": "execute_result"
    }
   ],
   "source": [
    "grid_search.fit(X_train,Y_train.values.ravel())\n"
   ]
  },
  {
   "cell_type": "code",
   "execution_count": 66,
   "metadata": {},
   "outputs": [
    {
     "name": "stdout",
     "output_type": "stream",
     "text": [
      "0.9486164635628235 {'max_depth': 10, 'max_features': 5, 'min_samples_leaf': 100, 'min_samples_split': 200, 'n_estimators': 300}\n"
     ]
    }
   ],
   "source": [
    "# printing the optimal accuracy score and hyperparameters\n",
    "print(grid_search.best_score_,grid_search.best_params_)"
   ]
  },
  {
   "cell_type": "code",
   "execution_count": null,
   "metadata": {},
   "outputs": [],
   "source": [
    "Fitting the model with best paramerters"
   ]
  },
  {
   "cell_type": "code",
   "execution_count": 60,
   "metadata": {},
   "outputs": [],
   "source": [
    "rf = RandomForestClassifier(n_estimators=300,max_depth=10,max_features=5,min_samples_leaf=100,min_samples_split=200)"
   ]
  },
  {
   "cell_type": "code",
   "execution_count": 64,
   "metadata": {},
   "outputs": [],
   "source": [
    "rf.fit(X_train,Y_train.values.ravel())\n",
    "y_test_pred=rf.predict(X_test)"
   ]
  },
  {
   "cell_type": "code",
   "execution_count": 65,
   "metadata": {},
   "outputs": [
    {
     "name": "stdout",
     "output_type": "stream",
     "text": [
      "0.9457682124861218\n"
     ]
    }
   ],
   "source": [
    "print(f1_score(Y_test,y_test_pred))"
   ]
  }
 ],
 "metadata": {
  "kernelspec": {
   "display_name": "Python 3",
   "language": "python",
   "name": "python3"
  },
  "language_info": {
   "codemirror_mode": {
    "name": "ipython",
    "version": 3
   },
   "file_extension": ".py",
   "mimetype": "text/x-python",
   "name": "python",
   "nbconvert_exporter": "python",
   "pygments_lexer": "ipython3",
   "version": "3.7.4"
  }
 },
 "nbformat": 4,
 "nbformat_minor": 2
}
